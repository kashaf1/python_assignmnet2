{
 "cells": [
  {
   "cell_type": "code",
   "execution_count": 1,
   "metadata": {},
   "outputs": [
    {
     "name": "stdout",
     "output_type": "stream",
     "text": [
      "     ********MARKSHEET OF STUDENT********  \n",
      "\n",
      "\n",
      "Enter a Java Marks :78\n",
      "Enter a Python Marks :89\n",
      "Enter a Android Marks :90\n",
      "Enter a Englishs Marks :78\n",
      "Enter a Html Marks :90\n",
      "Total marks is :\n",
      "425\n",
      "your GRADE is  A+ \n",
      "85.0\n"
     ]
    }
   ],
   "source": [
    "print('     ********MARKSHEET OF STUDENT********  ')\n",
    "print('\\n')\n",
    "\n",
    "Java = int(input('Enter a Java Marks :' ))\n",
    "Python =  int(input('Enter a Python Marks :'))\n",
    "Android = int(input('Enter a Android Marks :'))\n",
    "English = int(input('Enter a Englishs Marks :' ))\n",
    "Html =   int(input('Enter a Html Marks :'  ))\n",
    "\n",
    "Total = int(Java+Python+Android+English+Html)\n",
    "print('Total marks is :')\n",
    "print (Total)\n",
    "\n",
    "per=Total/5\n",
    "\n",
    "if per >= 85 and per < 100:\n",
    "    print(\"your GRADE is  A+ \")\n",
    "    print(per)  \n",
    "elif per >= 75 and per < 85:\n",
    "    print(\"your GRADE is A\")\n",
    "    print(per)\n",
    "elif per >= 65 and per < 75:\n",
    "    print(\"your GRADE is B+ \")\n",
    "    print(per)\n",
    "elif per >= 60 and per < 65:\n",
    "    print(\"your GRADE is B\")\n",
    "    print(per)\n",
    "elif per >= 55 and per < 60:\n",
    "    print(\"your GRADE is C+\")\n",
    "    print(per)\n",
    "elif per >= 45 and per < 55:\n",
    "    print(\"your GRADE is C\")\n",
    "    print(per)\n",
    "else :\n",
    "    print(\"your are fail !\")\n",
    "    print(per)\n",
    "\n",
    "\n"
   ]
  },
  {
   "cell_type": "code",
   "execution_count": 2,
   "metadata": {},
   "outputs": [
    {
     "name": "stdout",
     "output_type": "stream",
     "text": [
      "Enter a no :7\n",
      "Its Odd Number\n"
     ]
    }
   ],
   "source": [
    "Number= int(input('Enter a no :'))\n",
    "if Number%2==0 :\n",
    "    print(\"Its Even Number\")\n",
    "else :\n",
    "    print(\"Its Odd Number\")"
   ]
  },
  {
   "cell_type": "code",
   "execution_count": 3,
   "metadata": {},
   "outputs": [
    {
     "name": "stdout",
     "output_type": "stream",
     "text": [
      "Length of elements in given list is : 10\n"
     ]
    }
   ],
   "source": [
    "a={1,1,2,3,5,8,13,21,34,55,89}\n",
    "print(\"Length of elements in given list is :\", len(a))"
   ]
  },
  {
   "cell_type": "code",
   "execution_count": 4,
   "metadata": {},
   "outputs": [
    {
     "name": "stdout",
     "output_type": "stream",
     "text": [
      "Sum of elements in given list is : 231\n"
     ]
    }
   ],
   "source": [
    "a={1,1,2,3,5,8,13,21,34,55,89}\n",
    "print(\"Sum of elements in given list is :\", sum(a))"
   ]
  },
  {
   "cell_type": "code",
   "execution_count": 28,
   "metadata": {},
   "outputs": [
    {
     "name": "stdout",
     "output_type": "stream",
     "text": [
      "Maximum element in the list is : 89\n"
     ]
    }
   ],
   "source": [
    "a={1,1,2,3,5,8,13,21,34,55,89}\n",
    "print(\"Maximum element in the list is :\", max(a))  \n",
    "    "
   ]
  },
  {
   "cell_type": "code",
   "execution_count": 26,
   "metadata": {},
   "outputs": [
    {
     "name": "stdout",
     "output_type": "stream",
     "text": [
      "1\n",
      "1\n",
      "2\n",
      "3\n"
     ]
    }
   ],
   "source": [
    "a = [1, 1, 2, 3, 5, 8, 13, 21, 34, 55, 89]\n",
    "\n",
    "for b in a:\n",
    "\n",
    "    if b < 5:\n",
    "\n",
    "        print(b)"
   ]
  },
  {
   "cell_type": "code",
   "execution_count": null,
   "metadata": {},
   "outputs": [],
   "source": []
  }
 ],
 "metadata": {
  "kernelspec": {
   "display_name": "Python 3",
   "language": "python",
   "name": "python3"
  },
  "language_info": {
   "codemirror_mode": {
    "name": "ipython",
    "version": 3
   },
   "file_extension": ".py",
   "mimetype": "text/x-python",
   "name": "python",
   "nbconvert_exporter": "python",
   "pygments_lexer": "ipython3",
   "version": "3.7.4"
  }
 },
 "nbformat": 4,
 "nbformat_minor": 2
}
